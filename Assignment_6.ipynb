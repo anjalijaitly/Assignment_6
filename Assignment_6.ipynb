{
 "cells": [
  {
   "cell_type": "markdown",
   "id": "15599545",
   "metadata": {},
   "source": [
    "Q1. What are escape characters, and how do you use them?\n",
    "\n",
    "\n",
    "Escape characters have special meaning when used in a string.\n",
    "\n",
    "The escape characters are used with a backlash \"\\\\\". \n"
   ]
  },
  {
   "cell_type": "markdown",
   "id": "fb43d491",
   "metadata": {},
   "source": [
    "Q2. What do escape characters n and t stand for?\n",
    "\n",
    "\"\\n\" stands for new line.\n",
    "\"\\t\" stands for tab.\n"
   ]
  },
  {
   "cell_type": "markdown",
   "id": "77c5b6b0",
   "metadata": {},
   "source": [
    "Q3. What is the way to include backlash characters in a string? \n",
    "\n",
    "The backlash character can be included in a string by typing two backlashes \\\\ or using @.\n"
   ]
  },
  {
   "cell_type": "markdown",
   "id": "64cbc531",
   "metadata": {},
   "source": [
    "Q4. The string \"Howl's Moving Castle\" is a correct value. Why isn't the single quote character in the word Howl's not escaped problrm?\n",
    "\n",
    "The single quote in the word Howl's is not a problem because double quotes are used in the start abd the end of the sentence."
   ]
  },
  {
   "cell_type": "markdown",
   "id": "f7eb1248",
   "metadata": {},
   "source": [
    "Q5. How do you write a string of newlines if you don't want to use the n character?\n",
    "\n",
    "String of newlines can be used with triple-quoted string instead of n."
   ]
  },
  {
   "cell_type": "markdown",
   "id": "0d8fa85f",
   "metadata": {},
   "source": [
    "Q6. What are values of following wxpressions?\n",
    "\n",
    "'Hello, world!'[1]: 'e'\n",
    "\n",
    "'Hello, world!'[0:5]: 'Hello'\n",
    "\n",
    "'Hello, world!'[:5]: 'Hello'\n",
    "\n",
    "'Hello, world!'[3:]: 'lo world!'"
   ]
  },
  {
   "cell_type": "code",
   "execution_count": 2,
   "id": "3bac8e89",
   "metadata": {},
   "outputs": [
    {
     "data": {
      "text/plain": [
       "'e'"
      ]
     },
     "execution_count": 2,
     "metadata": {},
     "output_type": "execute_result"
    }
   ],
   "source": [
    "'Hello, world!'[1]"
   ]
  },
  {
   "cell_type": "code",
   "execution_count": 3,
   "id": "68913491",
   "metadata": {},
   "outputs": [
    {
     "data": {
      "text/plain": [
       "'Hello'"
      ]
     },
     "execution_count": 3,
     "metadata": {},
     "output_type": "execute_result"
    }
   ],
   "source": [
    "'Hello, world!'[0:5]"
   ]
  },
  {
   "cell_type": "code",
   "execution_count": 5,
   "id": "a0b6374f",
   "metadata": {},
   "outputs": [
    {
     "data": {
      "text/plain": [
       "'Hello'"
      ]
     },
     "execution_count": 5,
     "metadata": {},
     "output_type": "execute_result"
    }
   ],
   "source": [
    "'Hello, world!'[:5]"
   ]
  },
  {
   "cell_type": "code",
   "execution_count": 6,
   "id": "47eab5b1",
   "metadata": {},
   "outputs": [
    {
     "data": {
      "text/plain": [
       "'lo, world!'"
      ]
     },
     "execution_count": 6,
     "metadata": {},
     "output_type": "execute_result"
    }
   ],
   "source": [
    "'Hello, world!'[3:]"
   ]
  },
  {
   "cell_type": "markdown",
   "id": "bfa7c1af",
   "metadata": {},
   "source": [
    "Q7. What are the values of the following expressions?\n",
    "\n",
    "'Hello'.upper(): 'HELLO'\n",
    "\n",
    "'Hello'.isupper(): False\n",
    "\n",
    "'Hello'.upper().lower(): 'hello'"
   ]
  },
  {
   "cell_type": "code",
   "execution_count": 7,
   "id": "913297e7",
   "metadata": {},
   "outputs": [
    {
     "data": {
      "text/plain": [
       "'HELLO'"
      ]
     },
     "execution_count": 7,
     "metadata": {},
     "output_type": "execute_result"
    }
   ],
   "source": [
    "'Hello'.upper()"
   ]
  },
  {
   "cell_type": "code",
   "execution_count": 8,
   "id": "07bad745",
   "metadata": {},
   "outputs": [
    {
     "data": {
      "text/plain": [
       "False"
      ]
     },
     "execution_count": 8,
     "metadata": {},
     "output_type": "execute_result"
    }
   ],
   "source": [
    "'Hello'.isupper()"
   ]
  },
  {
   "cell_type": "code",
   "execution_count": 9,
   "id": "1d747211",
   "metadata": {},
   "outputs": [
    {
     "data": {
      "text/plain": [
       "'hello'"
      ]
     },
     "execution_count": 9,
     "metadata": {},
     "output_type": "execute_result"
    }
   ],
   "source": [
    "'Hello'.upper().lower()"
   ]
  },
  {
   "cell_type": "markdown",
   "id": "bd079ec8",
   "metadata": {},
   "source": [
    "Q8. What are the values of the following expressions?\n",
    "\n",
    "'Remember, remember, the fifth of July'.split(): ['Remember,' ,'remember,', 'the', 'fifth', 'of', 'July']\n",
    "\n",
    "'-'.join('There can only one'.split()): 'There-can-only-one'"
   ]
  },
  {
   "cell_type": "code",
   "execution_count": 10,
   "id": "83465bc3",
   "metadata": {},
   "outputs": [
    {
     "data": {
      "text/plain": [
       "['Remember,', 'remember,', 'the', 'fifth', 'of', 'July']"
      ]
     },
     "execution_count": 10,
     "metadata": {},
     "output_type": "execute_result"
    }
   ],
   "source": [
    "'Remember, remember, the fifth of July'.split()"
   ]
  },
  {
   "cell_type": "code",
   "execution_count": 12,
   "id": "2054365a",
   "metadata": {},
   "outputs": [
    {
     "data": {
      "text/plain": [
       "'There-can-only-one'"
      ]
     },
     "execution_count": 12,
     "metadata": {},
     "output_type": "execute_result"
    }
   ],
   "source": [
    "'-'.join('There can only one'.split())"
   ]
  },
  {
   "cell_type": "markdown",
   "id": "6972a99b",
   "metadata": {},
   "source": [
    "Q9. What are the methods for right-justifying, left-justifying and centering a string?\n",
    "\n",
    "right-justifying: rjust()\n",
    "\n",
    "left-justifying: ljust()\n",
    "\n",
    "center: center()"
   ]
  },
  {
   "cell_type": "markdown",
   "id": "66cf5c31",
   "metadata": {},
   "source": [
    "Q10. What is the best way to remove whitespace characters from the start or end?\n",
    "\n",
    "To remove whitespace characters from the start or end the function strip() can be used.\n"
   ]
  },
  {
   "cell_type": "code",
   "execution_count": null,
   "id": "ab455250",
   "metadata": {},
   "outputs": [],
   "source": []
  }
 ],
 "metadata": {
  "kernelspec": {
   "display_name": "Python 3 (ipykernel)",
   "language": "python",
   "name": "python3"
  },
  "language_info": {
   "codemirror_mode": {
    "name": "ipython",
    "version": 3
   },
   "file_extension": ".py",
   "mimetype": "text/x-python",
   "name": "python",
   "nbconvert_exporter": "python",
   "pygments_lexer": "ipython3",
   "version": "3.9.12"
  }
 },
 "nbformat": 4,
 "nbformat_minor": 5
}
